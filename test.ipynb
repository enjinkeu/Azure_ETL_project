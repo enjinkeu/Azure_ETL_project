{
 "cells": [
  {
   "cell_type": "code",
   "execution_count": null,
   "metadata": {},
   "outputs": [],
   "source": [
    "from azure.storage.blob import BlobServiceClient, ContainerClient, BlobClient\n",
    "import os\n",
    "from tika import parser\n",
    "import pdfplumber\n",
    "import io\n",
    "from pymongo import MongoClient\n",
    "import os\n",
    "from azure.identity import DefaultAzureCredential\n",
    "from azure.keyvault.secrets import SecretClient\n",
    "\n",
    "\n",
    "    \n"
   ]
  },
  {
   "cell_type": "code",
   "execution_count": null,
   "metadata": {},
   "outputs": [],
   "source": []
  },
  {
   "cell_type": "code",
   "execution_count": null,
   "metadata": {},
   "outputs": [],
   "source": [
    "from azure.cosmos import exceptions, CosmosClient, PartitionKey\n",
    "def get_secret(keyvault_name =\"chatkeys\", secret_name = \"openaiKey\"):\n",
    "    \"\"\"Get secret from Azure Key Vault\"\"\"\n",
    "    credential = DefaultAzureCredential()\n",
    "    secret_client = SecretClient(vault_url=f\"https://{keyvault_name}.vault.azure.net\", credential=credential)\n",
    "    secret = secret_client.get_secret(secret_name)\n",
    "    return secret.value\n",
    "  \n",
    "def get_cosmosdb_keys(resourceGroup,cosmosdb_name):\n",
    "    \"\"\" get cosmos db keys from azure\"\"\"\n",
    "    #create environment variables  \n",
    "    cosmosDbEndpoint_url = os.popen(f\"az cosmosdb show --resource-group {resourceGroup}  --name {cosmosdb_name} --query 'writeLocations[].documentEndpoint' -o tsv\").read().strip()\n",
    "    cosmos_account_key =   os.popen(f\"az cosmosdb keys  list --name {cosmosdb_name} --resource-group {resourceGroup} | jq -r '.primaryMasterKey'\").read().strip()    \n",
    "    database_name =        os.popen(f\"az cosmosdb database list --name {cosmosdb_name} --resource-group {resourceGroup} | jq -r '.[0].id'\").read().strip()\n",
    "    collection_name =       os.popen(f\"az cosmosdb collection list --name {cosmosdb_name} --db-name {database_name} --resource-group {resourceGroup} | jq -r '.[0].id'\").read().strip()\n",
    "    masterkey =            os.popen(f\" az cosmosdb list-keys --name {cosmosdb_name} --resource-group {resourceGroup} --query primaryMasterKey\").read().strip()\n",
    "    connecting_string =    os.popen(f\"az cosmosdb keys list --type connection-strings --resource-group {resourceGroup}\\\n",
    "                              --name {cosmosdb_name} | jq '.connectionStrings[0].connectionString' \").read().strip().replace('\"','')\n",
    "    \n",
    "    return {\n",
    "        \n",
    "        \"cosmosDbEndpoint_url\" : cosmosDbEndpoint_url,\n",
    "        \"masterkey\" : masterkey,\n",
    "        \"database_name\" : database_name,\n",
    "        \"collection_name\" : collection_name,\n",
    "        \"connecting_string\" : connecting_string\n",
    "    }\n",
    "\n",
    "def get_cosmosdb_client():\n",
    "    \"\"\"get cosmos db client\"\"\"\n",
    "    cosmosdb_acc = get_env_vars()['cosmosdb_acc']\n",
    "    resource_group_name = get_env_vars()['resource_group_name']\n",
    "    cosmosdb_keys = get_cosmosdb_keys(resourceGroup=resource_group_name,cosmosdb_name=cosmosdb_acc)\n",
    "    cosmosdb_client = CosmosClient(cosmosdb_keys['cosmosDbEndpoint_url'], cosmosdb_keys['masterkey'])\n",
    "    return cosmosdb_client\n",
    "\n",
    "def get_env_vars():\n",
    "    env_dict = {\n",
    "        \"resource_group_name\": os.environ.get('resource_group_name'),\n",
    "        \"storage_account_name\": os.environ.get('storage_account_name'),\n",
    "        \"container_name\": os.environ.get('container_name'),\n",
    "        \"cosmosdb_acc\": os.environ.get('cosmosdb_acc'),\n",
    "        \"database_name\": os.environ.get('database_name'),\n",
    "        \"collection_name\": os.environ.get('collection_name'),\n",
    "        \"OPENAI_API_KEY\": os.environ.get('OPENAI_API_KEY'),\n",
    "    }\n",
    "    for k, v in env_dict.items():\n",
    "        if v is None:\n",
    "            raise Exception(f\"{k} environment variable is not set\")\n",
    "    return env_dict\n",
    "    \n"
   ]
  },
  {
   "cell_type": "code",
   "execution_count": 28,
   "metadata": {},
   "outputs": [
    {
     "name": "stderr",
     "output_type": "stream",
     "text": [
      "WARNING: This command has been deprecated and will be removed in a future release. Use 'cosmosdb sql database, cosmosdb mongodb database, cosmosdb cassandra keyspace or cosmosdb gremlin database' instead.\n",
      "WARNING: This command is implicitly deprecated because command group 'cosmosdb database' is deprecated and will be removed in a future release. Use 'cosmosdb sql database, cosmosdb mongodb database, cosmosdb cassandra keyspace or cosmosdb gremlin database' instead.\n",
      "WARNING: This command has been deprecated and will be removed in a future release. Use 'cosmosdb sql container, cosmosdb mongodb collection, cosmosdb cassandra table, cosmosdb gremlin graph or cosmosdb table' instead.\n",
      "WARNING: This command is implicitly deprecated because command group 'cosmosdb collection' is deprecated and will be removed in a future release. Use 'cosmosdb sql container, cosmosdb mongodb collection, cosmosdb cassandra table, cosmosdb gremlin graph or cosmosdb table' instead.\n",
      "WARNING: This command has been deprecated and will be removed in a future release. Use 'cosmosdb keys list' instead.\n"
     ]
    }
   ],
   "source": [
    "cosmos_dict = get_cosmosdb_keys(resourceGroup = \"chatgptGp\",cosmosdb_name=\"chatgptdb-acn\")\n",
    "os.environ['storage_account_name'] = 'chatgptv2stn'\n",
    "os.environ['container_name'] = 'chatgpt-ctn'\n",
    "os.environ['resource_group_name'] ='chatgptGp'\n",
    "os.environ['cosmosdb_acc'] ='chatgptdb-acn'\n",
    "os.environ['database_name']='chatgptdb-dbn'\n",
    "os.environ['collection_name']='chatgptdb-cln'    \n",
    "os.environ['connections_string'] = cosmos_dict['connecting_string']\n",
    "os.environ['OPENAI_API_KEY'] = get_secret(keyvault_name='chatkeys', secret_name='openaiKey')"
   ]
  },
  {
   "cell_type": "code",
   "execution_count": 54,
   "metadata": {},
   "outputs": [],
   "source": [
    "import pymongo\n",
    "\n",
    "def list_filepaths_in_container():\n",
    "    client = pymongo.MongoClient(os.environ['connections_string'])\n",
    "    collection_client = client.get_database(os.environ['database_name']).get_collection(os.environ['collection_name'])\n",
    "    list = [item['Filepath'] for item in collection_client.find()]\n",
    "    return list"
   ]
  },
  {
   "cell_type": "code",
   "execution_count": 43,
   "metadata": {},
   "outputs": [
    {
     "data": {
      "text/plain": [
       "'chatgptdb-dbn'"
      ]
     },
     "execution_count": 43,
     "metadata": {},
     "output_type": "execute_result"
    }
   ],
   "source": [
    "os.environ['connections_string']\n",
    "os.environ['database_name']"
   ]
  },
  {
   "cell_type": "code",
   "execution_count": 55,
   "metadata": {},
   "outputs": [
    {
     "data": {
      "text/plain": [
       "['/src/AcademicJournal/anthropology/beemster/Les Tikar de Bankim.pdf',\n",
       " '/src/AcademicJournal/history/Ndobegang_Mbapndah/COLONIAL BACKGROUND TO THE ECONOMIC EMPOWERMENT AND POLITICAL MOBILIZATION.pdf',\n",
       " \"/src/AcademicJournal/anthropology/Annaud/De l'intestin aux testicules Substances, humeurs et alliance tikar - Cameroun central.pdf\",\n",
       " '/src/AcademicJournal/anthropology/Price/Descent, Clans and Territorial Organization in the Tikar Chiefdom of Ngambe, Cameroon.pdf',\n",
       " '/src/OpED/philosophy/nganang/LE COMPLEXE DE SENGHOR.pdf',\n",
       " '/src/AcademicJournal/anthropology/Price/WHO ARE THE TIKAR NOW.pdf',\n",
       " '/src/AcademicJournal/anthropology/Jeffreys/Who are the Tikar.pdf',\n",
       " '/src/AcademicJournal/anthropology/chilver_kaberry/FROM TRIBUTE TO TAX IN A TIKAR CHIEFDOM.pdf',\n",
       " '/src/AcademicJournal/anthropology/hagege/Esquisse linguistique du Tikar, Cameroun (Claude Hagège).pdf',\n",
       " '/src/AcademicJournal/geopolitics/Nganang/The Amba Uprising Beyond Frances.pdf',\n",
       " '/src/AcademicJournal/anthropology/Tchindakenfo/le probleme anglophone au cameroun - La reponse par le processus participatif au developpement territorial.pdf']"
      ]
     },
     "execution_count": 55,
     "metadata": {},
     "output_type": "execute_result"
    }
   ],
   "source": [
    "list_filepaths_in_container()"
   ]
  },
  {
   "cell_type": "code",
   "execution_count": 35,
   "metadata": {},
   "outputs": [
    {
     "data": {
      "text/plain": [
       "Collection(Database(MongoClient(host=['chatgptdb-acn.mongo.cosmos.azure.com:10255'], document_class=dict, tz_aware=False, connect=True, replicaset='globaldb', retrywrites=False, maxidletimems=120000, appname='@chatgptdb-acn@', tls=True), 'chatgptdb-dbn'), 'chatgptdb-cln')"
      ]
     },
     "execution_count": 35,
     "metadata": {},
     "output_type": "execute_result"
    }
   ],
   "source": [
    "collection_client = client.get_database('chatgptdb-dbn').get_collection(\"chatgptdb-cln\")\n",
    "collection_client"
   ]
  },
  {
   "cell_type": "code",
   "execution_count": 31,
   "metadata": {},
   "outputs": [
    {
     "data": {
      "text/plain": [
       "['/src/AcademicJournal/anthropology/beemster/Les Tikar de Bankim.pdf',\n",
       " '/src/AcademicJournal/history/Ndobegang_Mbapndah/COLONIAL BACKGROUND TO THE ECONOMIC EMPOWERMENT AND POLITICAL MOBILIZATION.pdf',\n",
       " \"/src/AcademicJournal/anthropology/Annaud/De l'intestin aux testicules Substances, humeurs et alliance tikar - Cameroun central.pdf\",\n",
       " '/src/AcademicJournal/anthropology/Price/Descent, Clans and Territorial Organization in the Tikar Chiefdom of Ngambe, Cameroon.pdf',\n",
       " '/src/OpED/philosophy/nganang/LE COMPLEXE DE SENGHOR.pdf',\n",
       " '/src/AcademicJournal/anthropology/Price/WHO ARE THE TIKAR NOW.pdf',\n",
       " '/src/AcademicJournal/anthropology/Jeffreys/Who are the Tikar.pdf',\n",
       " '/src/AcademicJournal/anthropology/chilver_kaberry/FROM TRIBUTE TO TAX IN A TIKAR CHIEFDOM.pdf',\n",
       " '/src/AcademicJournal/anthropology/hagege/Esquisse linguistique du Tikar, Cameroun (Claude Hagège).pdf',\n",
       " '/src/AcademicJournal/geopolitics/Nganang/The Amba Uprising Beyond Frances.pdf',\n",
       " '/src/AcademicJournal/anthropology/Tchindakenfo/le probleme anglophone au cameroun - La reponse par le processus participatif au developpement territorial.pdf']"
      ]
     },
     "execution_count": 31,
     "metadata": {},
     "output_type": "execute_result"
    }
   ],
   "source": [
    "[item['Filepath'] for item in collection_client.find()]"
   ]
  }
 ],
 "metadata": {
  "kernelspec": {
   "display_name": "Python 3",
   "language": "python",
   "name": "python3"
  },
  "language_info": {
   "codemirror_mode": {
    "name": "ipython",
    "version": 3
   },
   "file_extension": ".py",
   "mimetype": "text/x-python",
   "name": "python",
   "nbconvert_exporter": "python",
   "pygments_lexer": "ipython3",
   "version": "3.10.4"
  },
  "orig_nbformat": 4
 },
 "nbformat": 4,
 "nbformat_minor": 2
}
